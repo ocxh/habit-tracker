{
  "nbformat": 4,
  "nbformat_minor": 0,
  "metadata": {
    "colab": {
      "name": "Titanic.ipynb",
      "provenance": [],
      "collapsed_sections": [],
      "authorship_tag": "ABX9TyNsCEbxdbNiBKticAaCO+4V",
      "include_colab_link": true
    },
    "kernelspec": {
      "name": "python3",
      "display_name": "Python 3"
    },
    "language_info": {
      "name": "python"
    }
  },
  "cells": [
    {
      "cell_type": "markdown",
      "metadata": {
        "id": "view-in-github",
        "colab_type": "text"
      },
      "source": [
        "<a href=\"https://colab.research.google.com/github/ocxh/habit-tracker/blob/master/Titanic.ipynb\" target=\"_parent\"><img src=\"https://colab.research.google.com/assets/colab-badge.svg\" alt=\"Open In Colab\"/></a>"
      ]
    },
    {
      "cell_type": "code",
      "execution_count": 7,
      "metadata": {
        "id": "QozPOnMwThuj"
      },
      "outputs": [],
      "source": [
        "import pandas as pd\n",
        "\n",
        "#데이터 읽어오기\n",
        "train = pd.read_csv(\"./train.csv\")\n",
        "test = pd.read_csv(\"./test.csv\")\n",
        "\n",
        "#데이터 프레임 확인\n",
        "#train.head()\n",
        "#test.head()\n",
        "#train.describe()"
      ]
    },
    {
      "cell_type": "code",
      "source": [
        "#누락된 값 확인(훈련 데이터)\n",
        "print(\"train.isnull().sum\")\n",
        "train.isnull().sum()"
      ],
      "metadata": {
        "colab": {
          "base_uri": "https://localhost:8080/"
        },
        "id": "KkU-o0v5GOoJ",
        "outputId": "9e4f39a1-2933-4bc4-bfa4-cc236514d291"
      },
      "execution_count": null,
      "outputs": [
        {
          "output_type": "stream",
          "name": "stdout",
          "text": [
            "train.isnull().sum\n"
          ]
        },
        {
          "output_type": "execute_result",
          "data": {
            "text/plain": [
              "PassengerId      0\n",
              "Survived         0\n",
              "Pclass           0\n",
              "Name             0\n",
              "Sex              0\n",
              "Age            177\n",
              "SibSp            0\n",
              "Parch            0\n",
              "Ticket           0\n",
              "Fare             0\n",
              "Cabin          687\n",
              "Embarked         2\n",
              "dtype: int64"
            ]
          },
          "metadata": {},
          "execution_count": 2
        }
      ]
    },
    {
      "cell_type": "code",
      "source": [
        "#누락된 값 확인(테스트 데이터)\n",
        "print(\"test.isnull().sum()\")\n",
        "test.isnull().sum()"
      ],
      "metadata": {
        "colab": {
          "base_uri": "https://localhost:8080/"
        },
        "id": "szWwYlrKGexh",
        "outputId": "7fcb450f-9018-4d58-c34a-9fe3c742f955"
      },
      "execution_count": null,
      "outputs": [
        {
          "output_type": "stream",
          "name": "stdout",
          "text": [
            "test.isnull().sum()\n"
          ]
        },
        {
          "output_type": "execute_result",
          "data": {
            "text/plain": [
              "PassengerId      0\n",
              "Pclass           0\n",
              "Name             0\n",
              "Sex              0\n",
              "Age             86\n",
              "SibSp            0\n",
              "Parch            0\n",
              "Ticket           0\n",
              "Fare             1\n",
              "Cabin          327\n",
              "Embarked         0\n",
              "dtype: int64"
            ]
          },
          "metadata": {},
          "execution_count": 86
        }
      ]
    },
    {
      "cell_type": "code",
      "source": [
        "#전처리(Sex,Age, Embarked, Name, Cabin, Fare, SibSp, Parch, Ticket, Pclass)(9)  not(PassengerId, Survived)(2)\n",
        "\n",
        "#Sex\n",
        "#성별을 숫자로 매핑\n",
        "sex_map = {\"male\": 0, \"female\": 1}\n",
        "train['Sex'] = train['Sex'].map(sex_map)\n",
        "test['Sex'] = test['Sex'].map(sex_map)\n",
        "\n",
        "#Age(추가 시 점수 떨어짐)\n",
        "#누락된 값 평균으로 채우기\n",
        "train[\"Age\"] = train[\"Age\"].fillna(train[\"Age\"].mean())\n",
        "test[\"Age\"] = test[\"Age\"].fillna(test[\"Age\"].mean())\n",
        "\n",
        "#Pclass\n",
        "#one hot encoding 적용 하나 안하나 점수차이 X\n",
        "#one-hot encoding 적용\n",
        "'''\n",
        "train['Pclass_3']=(train['Pclass']==3)\n",
        "train['Pclass_2']=(train['Pclass']==2)\n",
        "train['Pclass_1']=(train['Pclass']==1)\n",
        "\n",
        "test['Pclass_3']=(test['Pclass']==3)\n",
        "test['Pclass_2']=(test['Pclass']==2)\n",
        "test['Pclass_1']=(test['Pclass']==1)\n",
        "\n",
        "train=train.drop(columns='Pclass')\n",
        "test=test.drop(columns='Pclass')\n",
        "'''\n",
        "\n",
        "#Fare(추가 시 점수 떨어짐)\n",
        "#누락된 값 채우기 \n",
        "train[\"Fare\"] = train[\"Fare\"].fillna(train[\"Fare\"].mean())\n",
        "test[\"Fare\"] = test[\"Fare\"].fillna(test[\"Fare\"].mean())\n",
        "\n",
        "\n",
        "#Family (새로운 칼럼, 있으나 없으나 점수차이 X) => (Solo칼럼을 만들기 위해서)\n",
        "train['Family'] = 1 + train['SibSp'] + train['Parch']\n",
        "test['Family'] = 1 + test['SibSp'] + test['Parch']\n",
        "\n",
        "#Solo (새로운 칼럼, 추가 시 점수 오름)\n",
        "train['Solo'] = (train['Family'] == 1)\n",
        "test['Solo'] = (test['Family'] == 1)\n",
        "\n",
        "#Parch (제거 시 점수 떨어짐, 그대로 유지)\n",
        "\n",
        "#SibSp(있으나 없으나 관계 X)\n",
        "\n",
        "\n",
        "#값 제거\n",
        "#생존과 관계없는 값들 제거\n",
        "train = train.drop(['Cabin','Embarked', 'PassengerId', 'Name','Ticket'],axis=1)\n",
        "test = test.drop(['Cabin', 'Embarked', 'Name', 'Ticket'],axis=1)\n",
        "#추가 시 점수가 떨어지기에 제거\n",
        "train = train.drop(['Age','Fare'], axis=1)\n",
        "test = test.drop(['Age','Fare'], axis=1)"
      ],
      "metadata": {
        "id": "XtEkRbBlzAQz"
      },
      "execution_count": 8,
      "outputs": []
    },
    {
      "cell_type": "code",
      "source": [
        "train.isnull().sum()"
      ],
      "metadata": {
        "colab": {
          "base_uri": "https://localhost:8080/"
        },
        "id": "wDEgmXOMX7Mx",
        "outputId": "620ab0c3-6aa5-4b94-e7d2-743725fd6742"
      },
      "execution_count": null,
      "outputs": [
        {
          "output_type": "execute_result",
          "data": {
            "text/plain": [
              "Survived    0\n",
              "Pclass      0\n",
              "Sex         0\n",
              "SibSp       0\n",
              "Parch       0\n",
              "Ticket      0\n",
              "Family      0\n",
              "Solo        0\n",
              "dtype: int64"
            ]
          },
          "metadata": {},
          "execution_count": 78
        }
      ]
    },
    {
      "cell_type": "code",
      "source": [
        "test.isnull().sum()"
      ],
      "metadata": {
        "colab": {
          "base_uri": "https://localhost:8080/"
        },
        "id": "augbj_SoYfQx",
        "outputId": "b032fdb6-243a-4e29-aa08-5bf2511caebf"
      },
      "execution_count": null,
      "outputs": [
        {
          "output_type": "execute_result",
          "data": {
            "text/plain": [
              "PassengerId    0\n",
              "Pclass         0\n",
              "Sex            0\n",
              "SibSp          0\n",
              "Parch          0\n",
              "Ticket         0\n",
              "Family         0\n",
              "Solo           0\n",
              "dtype: int64"
            ]
          },
          "metadata": {},
          "execution_count": 79
        }
      ]
    },
    {
      "cell_type": "code",
      "source": [
        "#이상치 제거 => 있으나 없으나 점수차이 x\n",
        "'''\n",
        "age_mean = train['Age'].mean()\n",
        "age_std = train['Age'].std()\n",
        "indexNames = train[train['Age'] < age_mean - 3*age_std].index\n",
        "train.drop(indexNames , inplace=True)\n",
        "indexNames = train[train['Age'] > age_mean + 3*age_std].index\n",
        "train.drop(indexNames , inplace=True)\n",
        "\n",
        "fare_mean = train['Fare'].mean()\n",
        "fare_std = train['Fare'].std()\n",
        "indexNames = train[train['Fare'] < fare_mean - 3*fare_std].index\n",
        "train.drop(indexNames , inplace=True)\n",
        "indexNames = train[train['Fare'] > fare_mean + 3*fare_std].index\n",
        "train.drop(indexNames , inplace=True)\n",
        "'''"
      ],
      "metadata": {
        "id": "yT-OBoXBYtqB"
      },
      "execution_count": null,
      "outputs": []
    },
    {
      "cell_type": "code",
      "source": [
        "#train_input, train_target\n",
        "train_input = train.drop(['Survived'], axis=1)\n",
        "train_target = train['Survived']"
      ],
      "metadata": {
        "id": "c1DDP0LMnaoN"
      },
      "execution_count": 13,
      "outputs": []
    },
    {
      "cell_type": "code",
      "source": [
        "#로지스틱 Score: 0.77751\n",
        "from sklearn.linear_model import LogisticRegression\n",
        "\n",
        "lr = LogisticRegression()\n",
        "\n",
        "\n",
        "lr.fit(train_input, train_target)\n",
        "\n",
        "lr.coef_\n",
        "\n",
        "predict = lr.predict(test.drop(['PassengerId'], axis=1))\n",
        "rs =pd.DataFrame({\n",
        "    'PassengerId': test['PassengerId'],\n",
        "    'Survived': predict\n",
        "})"
      ],
      "metadata": {
        "id": "5dmNd0gQZBwv"
      },
      "execution_count": null,
      "outputs": []
    },
    {
      "cell_type": "code",
      "source": [
        "#결정트리 Score: 0.77751\n",
        "from sklearn.tree import DecisionTreeClassifier\n",
        "dt = DecisionTreeClassifier(max_depth=4, random_state=42)\n",
        "dt.fit(train_input, train_target)\n",
        "\n",
        "predict = dt.predict(test.drop(['PassengerId'], axis=1))\n",
        "rs =pd.DataFrame({\n",
        "    'PassengerId': test['PassengerId'],\n",
        "    'Survived': predict\n",
        "})"
      ],
      "metadata": {
        "id": "Q1SaQaf9ZMx3"
      },
      "execution_count": 10,
      "outputs": []
    },
    {
      "cell_type": "code",
      "source": [
        "#훈련 데이터로 훈련세트와 테스트세트 나누기(Score값 측정용)\n",
        "from sklearn.model_selection import train_test_split\n",
        "\n",
        "train_input, test_input, train_target, test_target = train_test_split(train.drop(['Survived'], axis=1), train['Survived'], random_state=42)"
      ],
      "metadata": {
        "id": "qr1ROBzEnwMa"
      },
      "execution_count": 15,
      "outputs": []
    },
    {
      "cell_type": "code",
      "source": [
        "#Score값 측정\n",
        "print(dt.score(train_input, train_target))\n",
        "print(dt.score(test_input, test_target))"
      ],
      "metadata": {
        "colab": {
          "base_uri": "https://localhost:8080/"
        },
        "id": "WrxHWpCsoWqm",
        "outputId": "0c242664-813f-4611-de66-fd52e40cca76"
      },
      "execution_count": 16,
      "outputs": [
        {
          "output_type": "stream",
          "name": "stdout",
          "text": [
            "0.8098802395209581\n",
            "0.8116591928251121\n"
          ]
        }
      ]
    },
    {
      "cell_type": "code",
      "source": [
        "print(rs)\n",
        "rs.to_csv('result1.csv', index=False) "
      ],
      "metadata": {
        "colab": {
          "base_uri": "https://localhost:8080/"
        },
        "id": "70x13ZBZZOG_",
        "outputId": "4e38634c-2055-42c6-c524-d9e8bbefe090"
      },
      "execution_count": null,
      "outputs": [
        {
          "output_type": "stream",
          "name": "stdout",
          "text": [
            "     PassengerId  Survived\n",
            "0            892         0\n",
            "1            893         1\n",
            "2            894         0\n",
            "3            895         0\n",
            "4            896         1\n",
            "..           ...       ...\n",
            "413         1305         0\n",
            "414         1306         1\n",
            "415         1307         0\n",
            "416         1308         0\n",
            "417         1309         0\n",
            "\n",
            "[418 rows x 2 columns]\n"
          ]
        }
      ]
    },
    {
      "cell_type": "code",
      "source": [
        "#결과 데이터 프레임 확인\n",
        "#train.drop(['Survived', 'Age', 'Parch', 'Fare','Family'], axis=1).head()\n",
        "#test.head()\n",
        "#train.describe()"
      ],
      "metadata": {
        "colab": {
          "base_uri": "https://localhost:8080/",
          "height": 206
        },
        "id": "m3rxjtBOG5ru",
        "outputId": "bfd70347-e350-45f9-93fa-4b8ca44fcdf2"
      },
      "execution_count": null,
      "outputs": [
        {
          "output_type": "execute_result",
          "data": {
            "text/plain": [
              "   Sex  SibSp  Pclass_3  Pclass_2  Pclass_1   Solo\n",
              "0    0      1      True     False     False  False\n",
              "1    1      1     False     False      True  False\n",
              "2    1      0      True     False     False   True\n",
              "3    1      1     False     False      True  False\n",
              "4    0      0      True     False     False   True"
            ],
            "text/html": [
              "\n",
              "  <div id=\"df-c6241cf1-84b4-41ea-8f8b-8581dfe30341\">\n",
              "    <div class=\"colab-df-container\">\n",
              "      <div>\n",
              "<style scoped>\n",
              "    .dataframe tbody tr th:only-of-type {\n",
              "        vertical-align: middle;\n",
              "    }\n",
              "\n",
              "    .dataframe tbody tr th {\n",
              "        vertical-align: top;\n",
              "    }\n",
              "\n",
              "    .dataframe thead th {\n",
              "        text-align: right;\n",
              "    }\n",
              "</style>\n",
              "<table border=\"1\" class=\"dataframe\">\n",
              "  <thead>\n",
              "    <tr style=\"text-align: right;\">\n",
              "      <th></th>\n",
              "      <th>Sex</th>\n",
              "      <th>SibSp</th>\n",
              "      <th>Pclass_3</th>\n",
              "      <th>Pclass_2</th>\n",
              "      <th>Pclass_1</th>\n",
              "      <th>Solo</th>\n",
              "    </tr>\n",
              "  </thead>\n",
              "  <tbody>\n",
              "    <tr>\n",
              "      <th>0</th>\n",
              "      <td>0</td>\n",
              "      <td>1</td>\n",
              "      <td>True</td>\n",
              "      <td>False</td>\n",
              "      <td>False</td>\n",
              "      <td>False</td>\n",
              "    </tr>\n",
              "    <tr>\n",
              "      <th>1</th>\n",
              "      <td>1</td>\n",
              "      <td>1</td>\n",
              "      <td>False</td>\n",
              "      <td>False</td>\n",
              "      <td>True</td>\n",
              "      <td>False</td>\n",
              "    </tr>\n",
              "    <tr>\n",
              "      <th>2</th>\n",
              "      <td>1</td>\n",
              "      <td>0</td>\n",
              "      <td>True</td>\n",
              "      <td>False</td>\n",
              "      <td>False</td>\n",
              "      <td>True</td>\n",
              "    </tr>\n",
              "    <tr>\n",
              "      <th>3</th>\n",
              "      <td>1</td>\n",
              "      <td>1</td>\n",
              "      <td>False</td>\n",
              "      <td>False</td>\n",
              "      <td>True</td>\n",
              "      <td>False</td>\n",
              "    </tr>\n",
              "    <tr>\n",
              "      <th>4</th>\n",
              "      <td>0</td>\n",
              "      <td>0</td>\n",
              "      <td>True</td>\n",
              "      <td>False</td>\n",
              "      <td>False</td>\n",
              "      <td>True</td>\n",
              "    </tr>\n",
              "  </tbody>\n",
              "</table>\n",
              "</div>\n",
              "      <button class=\"colab-df-convert\" onclick=\"convertToInteractive('df-c6241cf1-84b4-41ea-8f8b-8581dfe30341')\"\n",
              "              title=\"Convert this dataframe to an interactive table.\"\n",
              "              style=\"display:none;\">\n",
              "        \n",
              "  <svg xmlns=\"http://www.w3.org/2000/svg\" height=\"24px\"viewBox=\"0 0 24 24\"\n",
              "       width=\"24px\">\n",
              "    <path d=\"M0 0h24v24H0V0z\" fill=\"none\"/>\n",
              "    <path d=\"M18.56 5.44l.94 2.06.94-2.06 2.06-.94-2.06-.94-.94-2.06-.94 2.06-2.06.94zm-11 1L8.5 8.5l.94-2.06 2.06-.94-2.06-.94L8.5 2.5l-.94 2.06-2.06.94zm10 10l.94 2.06.94-2.06 2.06-.94-2.06-.94-.94-2.06-.94 2.06-2.06.94z\"/><path d=\"M17.41 7.96l-1.37-1.37c-.4-.4-.92-.59-1.43-.59-.52 0-1.04.2-1.43.59L10.3 9.45l-7.72 7.72c-.78.78-.78 2.05 0 2.83L4 21.41c.39.39.9.59 1.41.59.51 0 1.02-.2 1.41-.59l7.78-7.78 2.81-2.81c.8-.78.8-2.07 0-2.86zM5.41 20L4 18.59l7.72-7.72 1.47 1.35L5.41 20z\"/>\n",
              "  </svg>\n",
              "      </button>\n",
              "      \n",
              "  <style>\n",
              "    .colab-df-container {\n",
              "      display:flex;\n",
              "      flex-wrap:wrap;\n",
              "      gap: 12px;\n",
              "    }\n",
              "\n",
              "    .colab-df-convert {\n",
              "      background-color: #E8F0FE;\n",
              "      border: none;\n",
              "      border-radius: 50%;\n",
              "      cursor: pointer;\n",
              "      display: none;\n",
              "      fill: #1967D2;\n",
              "      height: 32px;\n",
              "      padding: 0 0 0 0;\n",
              "      width: 32px;\n",
              "    }\n",
              "\n",
              "    .colab-df-convert:hover {\n",
              "      background-color: #E2EBFA;\n",
              "      box-shadow: 0px 1px 2px rgba(60, 64, 67, 0.3), 0px 1px 3px 1px rgba(60, 64, 67, 0.15);\n",
              "      fill: #174EA6;\n",
              "    }\n",
              "\n",
              "    [theme=dark] .colab-df-convert {\n",
              "      background-color: #3B4455;\n",
              "      fill: #D2E3FC;\n",
              "    }\n",
              "\n",
              "    [theme=dark] .colab-df-convert:hover {\n",
              "      background-color: #434B5C;\n",
              "      box-shadow: 0px 1px 3px 1px rgba(0, 0, 0, 0.15);\n",
              "      filter: drop-shadow(0px 1px 2px rgba(0, 0, 0, 0.3));\n",
              "      fill: #FFFFFF;\n",
              "    }\n",
              "  </style>\n",
              "\n",
              "      <script>\n",
              "        const buttonEl =\n",
              "          document.querySelector('#df-c6241cf1-84b4-41ea-8f8b-8581dfe30341 button.colab-df-convert');\n",
              "        buttonEl.style.display =\n",
              "          google.colab.kernel.accessAllowed ? 'block' : 'none';\n",
              "\n",
              "        async function convertToInteractive(key) {\n",
              "          const element = document.querySelector('#df-c6241cf1-84b4-41ea-8f8b-8581dfe30341');\n",
              "          const dataTable =\n",
              "            await google.colab.kernel.invokeFunction('convertToInteractive',\n",
              "                                                     [key], {});\n",
              "          if (!dataTable) return;\n",
              "\n",
              "          const docLinkHtml = 'Like what you see? Visit the ' +\n",
              "            '<a target=\"_blank\" href=https://colab.research.google.com/notebooks/data_table.ipynb>data table notebook</a>'\n",
              "            + ' to learn more about interactive tables.';\n",
              "          element.innerHTML = '';\n",
              "          dataTable['output_type'] = 'display_data';\n",
              "          await google.colab.output.renderOutput(dataTable, element);\n",
              "          const docLink = document.createElement('div');\n",
              "          docLink.innerHTML = docLinkHtml;\n",
              "          element.appendChild(docLink);\n",
              "        }\n",
              "      </script>\n",
              "    </div>\n",
              "  </div>\n",
              "  "
            ]
          },
          "metadata": {},
          "execution_count": 39
        }
      ]
    }
  ]
}